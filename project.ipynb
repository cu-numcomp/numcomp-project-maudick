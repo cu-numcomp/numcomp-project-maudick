{
 "cells": [
  {
   "cell_type": "markdown",
   "metadata": {},
   "source": [
    "# Project: **Linear Regression.py** in **Stock-Analysis**"
   ]
  },
  {
   "cell_type": "markdown",
   "metadata": {},
   "source": [
    "## About the method\n",
    "\n",
    "This is a linear regression method. It attempts to fit a linear model to stock price data in order to aid in predicting future prices. Linear regression is seen as a useful tool in this regard because it has the capability, though not the guarantee, of following pricing trends. In stock analysis, there doesn't seem to be a most preferential method, but rather the availability of multiple methods allows for useful analysis. Therefore, this specific method is useful in that context. There is actually another method in the repository that performs linear regression while taking trading volume into account - that is, the *amount* of stocks that were traded over the period that produced each price point - which represents yet another useful tool for stock price action analysis.\n",
    "\n",
    "## About the software\n",
    "\n",
    "Repository link: https://github.com/Vaibhav/Stock-Analysis\n",
    "\n",
    "The software package contains python methods for extracting market data from internet sources and for visualizing stock pricing trends. This software is developed by the user Vaibhav. It is likely used by many amateur stock traders. It is written in Python, and doesn't have any innate interfaces that allow it to be called from another language. There are no architecture figures included in the repository, as it is mostly a collection of scripts that allow one to visualize stock data and trends.\n",
    "\n",
    "\n",
    "\n",
    "## Method as it appears in the software\n",
    "\n",
    "The method is meant to show a simple linear regression over stock pricing data in order to aid in price action analysis. The script is called on its own, though is can also be called from a higher function if the user wants to get multiple trend graphs at once. It fits data using the sklearn linear_model package, which is a fairly cheap method in terms of computational expense. This function runs very quickly for the user in only a few seconds, depending on the length of the .csv price data file."
   ]
  },
  {
   "cell_type": "code",
   "execution_count": null,
   "metadata": {},
   "outputs": [],
   "source": []
  }
 ],
 "metadata": {
  "kernelspec": {
   "display_name": "Python 3",
   "language": "python",
   "name": "python3"
  },
  "language_info": {
   "codemirror_mode": {
    "name": "ipython",
    "version": 3
   },
   "file_extension": ".py",
   "mimetype": "text/x-python",
   "name": "python",
   "nbconvert_exporter": "python",
   "pygments_lexer": "ipython3",
   "version": "3.7.3"
  }
 },
 "nbformat": 4,
 "nbformat_minor": 4
}
